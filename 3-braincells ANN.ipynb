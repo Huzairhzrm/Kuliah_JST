{
 "cells": [
  {
   "cell_type": "code",
   "execution_count": 9,
   "metadata": {},
   "outputs": [
    {
     "data": {
      "text/plain": [
       "(0.9025796407992187, 1, 1)"
      ]
     },
     "execution_count": 9,
     "metadata": {},
     "output_type": "execute_result"
    }
   ],
   "source": [
    "import numpy as np\n",
    "\n",
    "dataset = [\n",
    "    [1,3,1.5],\n",
    "    [0,2,1],\n",
    "    [1,4,1.5],\n",
    "    [0,3,1],\n",
    "    [1,3.5,.5],\n",
    "    [0,2,.5],\n",
    "    [1,5.5,1],\n",
    "    [0,1,1]\n",
    "]\n",
    "inp = [[dataset[i][1], dataset[i][2]] for i in range(len(dataset))]\n",
    "h1 = [0, 0, 0]\n",
    "outp = 0\n",
    "testcase = [4.5,1]\n",
    "\n",
    "'''\n",
    "def NN(m1,m2,w1,w2, b):\n",
    "    z = m1*w1 + m2*w2 + b\n",
    "    return sigmoid(z)\n",
    "'''\n",
    "\n",
    "def NN2(inp, weight, bias):\n",
    "    #j = np.random.randint(len(inp))\n",
    "    for i in range(len(h1)):\n",
    "        h1[i] = sigmoid(inp[j][0]*weight[0][i][0] + inp[j][1]*weight[0][i][1] + bias[0])\n",
    "    return sigmoid(h1[0]*weight[1][0] + h1[1]*weight[1][1] + h1[2]*weight[1][2] + bias[1])\n",
    "\n",
    "def sigmoid(x):\n",
    "    return 1/(1+np.exp(-x))\n",
    "\n",
    "def dsigmoid(x):\n",
    "    return sigmoid(x) * (1-sigmoid(x))\n",
    "\n",
    "def cost(i,o):\n",
    "    return np.square(i-o)\n",
    "\n",
    "def dcost(i,o):\n",
    "    return 2*(i-o)\n",
    "\n",
    "weight = [[[np.random.randn() for i in range(2)] for i in range(3)],[np.random.randn() for i in range(3)]]\n",
    "bias = [np.random.randn() for i in range(2)]\n",
    "\n",
    "j = np.random.randint(len(inp))\n",
    "\n",
    "'''\n",
    "#forward pass, input satu dataset\n",
    "\n",
    "j = np.random.randint(len(inp))\n",
    "#karena aku nambah hidden layer, jadi fungsi NN() pindah ke sini\n",
    "for i in range(len(h1)):\n",
    "    h1[i] = sigmoid(inp[j][0]*weight[0][i][0] + inp[j][1]*weight[0][i][1] + bias[0])\n",
    "outp = sigmoid(h1[0]*weight[1][0] + h1[1]*weight[1][1] + h1[2]*weight[1][2] + bias[1])\n",
    "\n",
    "w1 = np.random.randn()\n",
    "w2 = np.random.randn()\n",
    "b = np.random.randn()\n",
    "\n",
    "for i in range(len(dataset)):\n",
    "    if NN(dataset[i][1], dataset[i][2], w1, w2, b) < .5:\n",
    "        output.append(0)\n",
    "    else:\n",
    "        output.append(1)\n",
    "\n",
    "for i in range(len(dataset)):\n",
    "    print(dataset[i][0], output[i])\n",
    "\n",
    "\n",
    "#alpha = .1\n",
    "#hidden_node = 3\n",
    "#maxIt = 1000\n",
    "\n",
    "#outp, dataset[j][0], cost(dataset[j][0], outp)\n",
    "'''\n",
    "NN2(inp, weight, bias), dataset[j][0], cost(dataset[j][0], outp)"
   ]
  },
  {
   "cell_type": "code",
   "execution_count": 29,
   "metadata": {},
   "outputs": [
    {
     "data": {
      "text/plain": [
       "[[[0.7246904416092356, 1.7723499025570504],\n",
       "  [-1.2460300878288422, -1.1714745607403148],\n",
       "  [-1.5882950293220082, 2.4357525382014638]],\n",
       " [0.018432868066621012, 0.8809320611354443, -0.007637042537407168]]"
      ]
     },
     "execution_count": 29,
     "metadata": {},
     "output_type": "execute_result"
    }
   ],
   "source": [
    "weight"
   ]
  },
  {
   "cell_type": "code",
   "execution_count": null,
   "metadata": {},
   "outputs": [],
   "source": []
  },
  {
   "cell_type": "code",
   "execution_count": null,
   "metadata": {},
   "outputs": [],
   "source": []
  }
 ],
 "metadata": {
  "kernelspec": {
   "display_name": "Python 3",
   "language": "python",
   "name": "python3"
  },
  "language_info": {
   "codemirror_mode": {
    "name": "ipython",
    "version": 3
   },
   "file_extension": ".py",
   "mimetype": "text/x-python",
   "name": "python",
   "nbconvert_exporter": "python",
   "pygments_lexer": "ipython3",
   "version": "3.7.3"
  }
 },
 "nbformat": 4,
 "nbformat_minor": 2
}
