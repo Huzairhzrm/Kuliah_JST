{
 "cells": [
  {
   "cell_type": "code",
   "execution_count": 32,
   "metadata": {},
   "outputs": [
    {
     "name": "stdout",
     "output_type": "stream",
     "text": [
      "[0.37011441 1.29092434] 0.694877027646705\n",
      "[0.00461103 0.01608283] 0.694877027646705\n"
     ]
    },
    {
     "data": {
      "text/plain": [
       "'Red'"
      ]
     },
     "execution_count": 32,
     "metadata": {},
     "output_type": "execute_result"
    }
   ],
   "source": [
    "import numpy as np\n",
    "\n",
    "dataset = [\n",
    "    [1,3,1.5],\n",
    "    [0,2,1],\n",
    "    [1,4,1.5],\n",
    "    [0,3,1],\n",
    "    [1,3.5,.5],\n",
    "    [0,2,.5],\n",
    "    [1,5.5,1],\n",
    "    [0,1,1]\n",
    "]\n",
    "\n",
    "data = np.array([[dataset[i][1], dataset[i][2]] for i in range(len(dataset))])\n",
    "target = np.array([dataset[i][0] for i in range(len(dataset))])\n",
    "\n",
    "def NN(d,w,b,j):\n",
    "    return sigmoid(np.dot([d[j][0],d[j][1]],w) + b)\n",
    "\n",
    "def test(d,w,b):\n",
    "    if sigmoid(np.dot([d[0],d[1]],w) + b) > .5:\n",
    "        return 'Red'\n",
    "    else:\n",
    "        return 'Blue'\n",
    "\n",
    "def sigmoid(x):\n",
    "    return 1/(1+np.exp(-x))\n",
    "\n",
    "def dsigmoid(x):\n",
    "    return sigmoid(x) * (1-sigmoid(x))\n",
    "\n",
    "def cost(i,o):\n",
    "    return np.square(i-o)\n",
    "\n",
    "def dcost(i,o):\n",
    "    return 2*(i-o)\n",
    "\n",
    "def train(d,w,b):\n",
    "    j = np.random.randint(len(data))\n",
    "    \n",
    "    #wtf is this shitty chain rule i came up :(\n",
    "    o = NN(d,w,b,j)\n",
    "    dc_do = dcost(target[j], o)\n",
    "    do_dw = dc_do * w\n",
    "    w += .01 * do_dw\n",
    "    b += .01 * dc_do\n",
    "    \n",
    "#init\n",
    "w = np.array([np.random.randn() for i in range(2)]).T\n",
    "b = np.random.randn()\n",
    "\n",
    "#j = np.random.randint(len(data)) #pilih training data secara random\n",
    "\n",
    "#main\n",
    "#NN(data,w,b,j), cost(target[j], NN(data,w,b,j)), dcost(target[j], NN(data,w,b,j))\n",
    "print(w,b)\n",
    "\n",
    "for suichan in range(1000):\n",
    "    train(data,w,b)\n",
    "    \n",
    "print(w,b)\n",
    "test([4.5,1],w,b) #Harusnya 'Red'\n",
    "#Masalah yang muncul: \n",
    "#(1) Kalo output red ndak papa, kalo output blue muncul exp overflow\n",
    "#(2) Bias nya ndak keupdate :(\n",
    "#(3) Masih sering salah nebak"
   ]
  },
  {
   "cell_type": "code",
   "execution_count": null,
   "metadata": {},
   "outputs": [],
   "source": []
  }
 ],
 "metadata": {
  "kernelspec": {
   "display_name": "Python 3",
   "language": "python",
   "name": "python3"
  },
  "language_info": {
   "codemirror_mode": {
    "name": "ipython",
    "version": 3
   },
   "file_extension": ".py",
   "mimetype": "text/x-python",
   "name": "python",
   "nbconvert_exporter": "python",
   "pygments_lexer": "ipython3",
   "version": "3.7.3"
  }
 },
 "nbformat": 4,
 "nbformat_minor": 2
}
